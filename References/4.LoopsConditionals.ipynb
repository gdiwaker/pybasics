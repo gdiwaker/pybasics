{
 "cells": [
  {
   "cell_type": "markdown",
   "metadata": {},
   "source": [
    "# 4. Loops and Conditionals\n",
    "---"
   ]
  },
  {
   "cell_type": "markdown",
   "metadata": {},
   "source": [
    "## Loop\n",
    "\n",
    "*Loops repeats __block of code__ until the condition is true.*\n",
    "\n",
    "### For"
   ]
  },
  {
   "cell_type": "code",
   "execution_count": 2,
   "metadata": {},
   "outputs": [
    {
     "name": "stdout",
     "output_type": "stream",
     "text": [
      "0\n",
      "1\n",
      "2\n"
     ]
    }
   ],
   "source": [
    "for i in range(0, 3):\n",
    "    print(i)"
   ]
  },
  {
   "cell_type": "markdown",
   "metadata": {},
   "source": [
    "*Above is example of __for__-loop, Here __print(i)__ is __block of code__*\n",
    "\n",
    "#### Q. What is block of code?\n",
    "\n",
    "*A __block of code__ is identified by __empty region__, (i.e 4 spaces) at the starting of line (or lines), as well as the line before that block, ends with a __:__ (colon)*\n",
    "\n",
    "*A __:__ (colon) is mandatory for block level statements.*\n",
    "\n",
    "*__for__ is block level statement.*\n",
    "\n",
    "#### Q. What is true condition for above code?\n",
    "\n",
    "*What range gives us, 0, 1, 2 (but not 3). So above __for__ loop will continue until it will run out of numbers, ie after __2__.*\n",
    "\n",
    "*__in__ will select each number from __range(0, 3)__ and store it in variable __i__.*"
   ]
  },
  {
   "cell_type": "markdown",
   "metadata": {},
   "source": [
    "__i__ will have new value on every loop, ie at first it will have __0__, then __1__ and then __2__."
   ]
  },
  {
   "cell_type": "code",
   "execution_count": 3,
   "metadata": {},
   "outputs": [
    {
     "data": {
      "text/plain": [
       "2"
      ]
     },
     "execution_count": 3,
     "metadata": {},
     "output_type": "execute_result"
    }
   ],
   "source": [
    "i"
   ]
  },
  {
   "cell_type": "markdown",
   "metadata": {},
   "source": [
    "*Remember __i__ holds the value of last item.*"
   ]
  },
  {
   "cell_type": "markdown",
   "metadata": {},
   "source": [
    "**Looping through list of names**"
   ]
  },
  {
   "cell_type": "code",
   "execution_count": 4,
   "metadata": {
    "collapsed": true
   },
   "outputs": [],
   "source": [
    "names = ['Harry', 'Clara', 'Harold', 'Gimli']"
   ]
  },
  {
   "cell_type": "code",
   "execution_count": 5,
   "metadata": {},
   "outputs": [
    {
     "name": "stdout",
     "output_type": "stream",
     "text": [
      "Harry\n",
      "Clara\n",
      "Harold\n",
      "Gimli\n"
     ]
    }
   ],
   "source": [
    "for name in names:\n",
    "    print(name)"
   ]
  },
  {
   "cell_type": "markdown",
   "metadata": {},
   "source": [
    "**Looping through tuple of ips**"
   ]
  },
  {
   "cell_type": "code",
   "execution_count": 6,
   "metadata": {
    "collapsed": true
   },
   "outputs": [],
   "source": [
    "ips = ('192.168.0.5', '192.168.0.55', '192.168.0.14', '192.168.0.67')"
   ]
  },
  {
   "cell_type": "code",
   "execution_count": 7,
   "metadata": {},
   "outputs": [
    {
     "name": "stdout",
     "output_type": "stream",
     "text": [
      "192.168.0.5\n",
      "192.168.0.55\n",
      "192.168.0.14\n",
      "192.168.0.67\n"
     ]
    }
   ],
   "source": [
    "for ip in ips:\n",
    "    print(ip)"
   ]
  },
  {
   "cell_type": "markdown",
   "metadata": {},
   "source": [
    "**Looping through dictionary, by keys**"
   ]
  },
  {
   "cell_type": "code",
   "execution_count": 8,
   "metadata": {
    "collapsed": true
   },
   "outputs": [],
   "source": [
    "dct = {\n",
    "    'name': 'Harry', \n",
    "    'age': 42, \n",
    "    'profession': 'Foreman', \n",
    "    'address': ('12th Street', 'CA')\n",
    "}"
   ]
  },
  {
   "cell_type": "code",
   "execution_count": 9,
   "metadata": {},
   "outputs": [
    {
     "name": "stdout",
     "output_type": "stream",
     "text": [
      "name\n",
      "age\n",
      "profession\n",
      "address\n"
     ]
    }
   ],
   "source": [
    "for item in dct:\n",
    "    print(item)"
   ]
  },
  {
   "cell_type": "markdown",
   "metadata": {},
   "source": [
    "*here items printed are keys of dictionary*\n",
    "\n",
    "*If we loop through a dictionary we get keys*"
   ]
  },
  {
   "cell_type": "markdown",
   "metadata": {},
   "source": [
    "**Get all keys from a dictionary**"
   ]
  },
  {
   "cell_type": "code",
   "execution_count": 10,
   "metadata": {},
   "outputs": [
    {
     "data": {
      "text/plain": [
       "dict_keys(['name', 'age', 'profession', 'address'])"
      ]
     },
     "execution_count": 10,
     "metadata": {},
     "output_type": "execute_result"
    }
   ],
   "source": [
    "dct.keys()"
   ]
  },
  {
   "cell_type": "markdown",
   "metadata": {},
   "source": [
    "**Looping through all values of dictionary**"
   ]
  },
  {
   "cell_type": "code",
   "execution_count": 11,
   "metadata": {},
   "outputs": [
    {
     "name": "stdout",
     "output_type": "stream",
     "text": [
      "Harry\n",
      "42\n",
      "Foreman\n",
      "('12th Street', 'CA')\n"
     ]
    }
   ],
   "source": [
    "for item in dct:\n",
    "    print(dct[item])"
   ]
  },
  {
   "cell_type": "markdown",
   "metadata": {},
   "source": [
    "**Get all values from a dictionary**"
   ]
  },
  {
   "cell_type": "code",
   "execution_count": 12,
   "metadata": {},
   "outputs": [
    {
     "data": {
      "text/plain": [
       "dict_values(['Harry', 42, 'Foreman', ('12th Street', 'CA')])"
      ]
     },
     "execution_count": 12,
     "metadata": {},
     "output_type": "execute_result"
    }
   ],
   "source": [
    "dct.values()"
   ]
  },
  {
   "cell_type": "code",
   "execution_count": 13,
   "metadata": {},
   "outputs": [
    {
     "name": "stdout",
     "output_type": "stream",
     "text": [
      "Harry\n",
      "42\n",
      "Foreman\n",
      "('12th Street', 'CA')\n"
     ]
    }
   ],
   "source": [
    "for item in dct.values():\n",
    "    print(item)"
   ]
  },
  {
   "cell_type": "markdown",
   "metadata": {},
   "source": [
    "**Get all key, value pair from dictionary**"
   ]
  },
  {
   "cell_type": "code",
   "execution_count": 14,
   "metadata": {},
   "outputs": [
    {
     "name": "stdout",
     "output_type": "stream",
     "text": [
      "Key: name, Value: Harry\n",
      "Key: age, Value: 42\n",
      "Key: profession, Value: Foreman\n",
      "Key: address, Value: ('12th Street', 'CA')\n"
     ]
    }
   ],
   "source": [
    "for item in dct:\n",
    "    print('Key: {}, Value: {}'.format(item, dct[item]))"
   ]
  },
  {
   "cell_type": "markdown",
   "metadata": {},
   "source": [
    "**OR**"
   ]
  },
  {
   "cell_type": "code",
   "execution_count": 15,
   "metadata": {},
   "outputs": [
    {
     "name": "stdout",
     "output_type": "stream",
     "text": [
      "Key: name, Value: Harry\n",
      "Key: age, Value: 42\n",
      "Key: profession, Value: Foreman\n",
      "Key: address, Value: ('12th Street', 'CA')\n"
     ]
    }
   ],
   "source": [
    "for key, value in dct.items():\n",
    "    print('Key: {}, Value: {}'.format(key, value))"
   ]
  },
  {
   "cell_type": "markdown",
   "metadata": {},
   "source": [
    "**How?**"
   ]
  },
  {
   "cell_type": "code",
   "execution_count": 16,
   "metadata": {},
   "outputs": [
    {
     "data": {
      "text/plain": [
       "dict_items([('name', 'Harry'), ('age', 42), ('profession', 'Foreman'), ('address', ('12th Street', 'CA'))])"
      ]
     },
     "execution_count": 16,
     "metadata": {},
     "output_type": "execute_result"
    }
   ],
   "source": [
    "dct.items()"
   ]
  },
  {
   "cell_type": "markdown",
   "metadata": {},
   "source": [
    "*__dct.items()__ gives us list of tuples of key, value pair.*"
   ]
  },
  {
   "cell_type": "markdown",
   "metadata": {},
   "source": [
    "*So how are key value is assign to each of variable __key__, __value__.*"
   ]
  },
  {
   "cell_type": "markdown",
   "metadata": {},
   "source": [
    "### Tuple Assignment"
   ]
  },
  {
   "cell_type": "markdown",
   "metadata": {},
   "source": [
    "*In Python a variable can be assigned in pairs, such as*"
   ]
  },
  {
   "cell_type": "code",
   "execution_count": 20,
   "metadata": {
    "collapsed": true
   },
   "outputs": [],
   "source": [
    "name = 'Harry'\n",
    "age = 11"
   ]
  },
  {
   "cell_type": "code",
   "execution_count": 22,
   "metadata": {},
   "outputs": [
    {
     "data": {
      "text/plain": [
       "'Harry'"
      ]
     },
     "execution_count": 22,
     "metadata": {},
     "output_type": "execute_result"
    }
   ],
   "source": [
    "name"
   ]
  },
  {
   "cell_type": "markdown",
   "metadata": {},
   "source": [
    "*Above can be written as*"
   ]
  },
  {
   "cell_type": "code",
   "execution_count": 26,
   "metadata": {
    "collapsed": true
   },
   "outputs": [],
   "source": [
    "name, age = 'Ron', 11"
   ]
  },
  {
   "cell_type": "markdown",
   "metadata": {},
   "source": [
    "*Here right hand side is assigned to left hand side one by one. i.e first is assigned to first variable in left hand side.*"
   ]
  },
  {
   "cell_type": "code",
   "execution_count": 27,
   "metadata": {},
   "outputs": [
    {
     "data": {
      "text/plain": [
       "'Ron'"
      ]
     },
     "execution_count": 27,
     "metadata": {},
     "output_type": "execute_result"
    }
   ],
   "source": [
    "name"
   ]
  },
  {
   "cell_type": "markdown",
   "metadata": {},
   "source": [
    "*The above assignment is called tuple assignment, both sides are tuple, but we don't need __()__ here in this case.*"
   ]
  },
  {
   "cell_type": "code",
   "execution_count": 28,
   "metadata": {
    "collapsed": true
   },
   "outputs": [],
   "source": [
    "(name, age) = ('Harold', 44)"
   ]
  },
  {
   "cell_type": "markdown",
   "metadata": {},
   "source": [
    "*Eg. __a1, b1 = (0, 1)__ is same as __a1, b1 = 0, 1__*\n",
    "\n",
    "since (0, 1) is a tuple and it is unpacked ( taken out of tuple ), this process is called unpacking"
   ]
  },
  {
   "cell_type": "code",
   "execution_count": 29,
   "metadata": {},
   "outputs": [
    {
     "data": {
      "text/plain": [
       "'Harold'"
      ]
     },
     "execution_count": 29,
     "metadata": {},
     "output_type": "execute_result"
    }
   ],
   "source": [
    "name"
   ]
  },
  {
   "cell_type": "markdown",
   "metadata": {},
   "source": [
    "*Here Right hand side tuple is unpacked and assigned to each item on left hand side*"
   ]
  },
  {
   "cell_type": "markdown",
   "metadata": {},
   "source": [
    "### How this relates to looping through items of dictionary"
   ]
  },
  {
   "cell_type": "code",
   "execution_count": 30,
   "metadata": {},
   "outputs": [
    {
     "name": "stdout",
     "output_type": "stream",
     "text": [
      "('name', 'Harry')\n",
      "('age', 42)\n",
      "('profession', 'Foreman')\n",
      "('address', ('12th Street', 'CA'))\n"
     ]
    }
   ],
   "source": [
    "for item in dct.items():\n",
    "    print(item)"
   ]
  },
  {
   "cell_type": "code",
   "execution_count": 31,
   "metadata": {},
   "outputs": [
    {
     "name": "stdout",
     "output_type": "stream",
     "text": [
      "Key name with value Harry\n",
      "Key age with value 42\n",
      "Key profession with value Foreman\n",
      "Key address with value ('12th Street', 'CA')\n"
     ]
    }
   ],
   "source": [
    "for item in dct.items():\n",
    "    key, value = item # ('profession', 'Foreman')\n",
    "    print(\"Key {} with value {}\".format(key, value))"
   ]
  },
  {
   "cell_type": "code",
   "execution_count": 32,
   "metadata": {},
   "outputs": [
    {
     "name": "stdout",
     "output_type": "stream",
     "text": [
      "key name has value Harry\n",
      "key age has value 42\n",
      "key profession has value Foreman\n",
      "key address has value ('12th Street', 'CA')\n"
     ]
    }
   ],
   "source": [
    "for key, value in dct.items():\n",
    "    print(\"key {} has value {}\".format(key, value))"
   ]
  },
  {
   "cell_type": "markdown",
   "metadata": {},
   "source": [
    "*Above, each item from __dct.items()__ is unpacked and assigned to __key, value__ inside for loop*"
   ]
  },
  {
   "cell_type": "code",
   "execution_count": null,
   "metadata": {
    "collapsed": true
   },
   "outputs": [],
   "source": []
  }
 ],
 "metadata": {
  "kernelspec": {
   "display_name": "Python 3",
   "language": "python",
   "name": "python3"
  },
  "language_info": {
   "codemirror_mode": {
    "name": "ipython",
    "version": 3
   },
   "file_extension": ".py",
   "mimetype": "text/x-python",
   "name": "python",
   "nbconvert_exporter": "python",
   "pygments_lexer": "ipython3",
   "version": "3.6.2"
  }
 },
 "nbformat": 4,
 "nbformat_minor": 2
}
